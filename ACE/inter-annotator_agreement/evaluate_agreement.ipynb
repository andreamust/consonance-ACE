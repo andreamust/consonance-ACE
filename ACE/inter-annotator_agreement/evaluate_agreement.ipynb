{
 "cells": [
  {
   "cell_type": "code",
   "execution_count": 14,
   "id": "621a5216",
   "metadata": {},
   "outputs": [],
   "source": [
    "from pathlib import Path\n",
    "\n",
    "import pandas as pd\n",
    "from evaluation import evaluate_dataset_agreement\n",
    "from utils import (\n",
    "    generate_random_sequences,\n",
    "    get_dataset_statistics,\n",
    "    get_file_annotations,\n",
    "    get_files,\n",
    ")\n",
    "\n",
    "# Set the path to the folder containing the annotations\n",
    "JAMS_PATH = Path(\"/media/data/andrea/casd/\")"
   ]
  },
  {
   "cell_type": "code",
   "execution_count": 15,
   "id": "2f9ecb6b",
   "metadata": {},
   "outputs": [
    {
     "data": {
      "text/plain": [
       "'Total number of files: 50'"
      ]
     },
     "execution_count": 15,
     "metadata": {},
     "output_type": "execute_result"
    }
   ],
   "source": [
    "# Get all jams files\n",
    "jams_files = get_files(JAMS_PATH)\n",
    "# Extract annotations from the files\n",
    "real_annotations = [get_file_annotations(f) for f in jams_files]\n",
    "\n",
    "f\"Total number of files: {len(jams_files)}\""
   ]
  },
  {
   "cell_type": "code",
   "execution_count": 16,
   "id": "a60ae02b",
   "metadata": {},
   "outputs": [
    {
     "data": {
      "text/plain": [
       "'Total number of random sequences: 50'"
      ]
     },
     "execution_count": 16,
     "metadata": {},
     "output_type": "execute_result"
    }
   ],
   "source": [
    "# get the dataset statistics\n",
    "dataset_statistics = get_dataset_statistics(jams_files)\n",
    "# generate random sequences\n",
    "random_annotations = generate_random_sequences(50, dataset_statistics, seed=8031)\n",
    "\n",
    "f\"Total number of random sequences: {len(random_annotations)}\""
   ]
  },
  {
   "cell_type": "markdown",
   "id": "5e08d0e0",
   "metadata": {},
   "source": [
    "### `mir_eval` metrics"
   ]
  },
  {
   "cell_type": "code",
   "execution_count": 17,
   "id": "18dd62cc",
   "metadata": {},
   "outputs": [
    {
     "data": {
      "application/vnd.jupyter.widget-view+json": {
       "model_id": "4c8edfb8900a418a87ad54cb8fd7d81a",
       "version_major": 2,
       "version_minor": 0
      },
      "text/plain": [
       "Evaluating annotations:   0%|          | 0/50 [00:00<?, ?it/s]"
      ]
     },
     "metadata": {},
     "output_type": "display_data"
    },
    {
     "data": {
      "application/vnd.jupyter.widget-view+json": {
       "model_id": "0968b1f728654a58a63e1d680e6889fa",
       "version_major": 2,
       "version_minor": 0
      },
      "text/plain": [
       "Evaluating annotations:   0%|          | 0/50 [00:00<?, ?it/s]"
      ]
     },
     "metadata": {},
     "output_type": "display_data"
    },
    {
     "name": "stdout",
     "output_type": "stream",
     "text": [
      "Real annotations (mir_eval):\n",
      "{'thirds': 0.7413514154436445, 'thirds_inv': 0.6683433700807974, 'triads': 0.7102569016134817, 'triads_inv': 0.6482322098018098, 'tetrads': 0.571925441256004, 'tetrads_inv': 0.52252209565205, 'root': 0.7567867797693034, 'mirex': 0.7440090577990326, 'majmin': 0.7335947659182896, 'majmin_inv': 0.6690201401432962, 'sevenths': 0.5921685667466475, 'sevenths_inv': 0.5408910386916426, 'underseg': 0.8855556080734478, 'overseg': 0.8956199107705658, 'seg': 0.8322010722579996}\n",
      "Random annotations (mir_eval):\n",
      "{'thirds': 0.13959170929688122, 'thirds_inv': 0.062234194199953234, 'triads': 0.12057195709875067, 'triads_inv': 0.05601931087715482, 'tetrads': 0.12057195709875067, 'tetrads_inv': 0.05601931087715482, 'root': 0.1447363982308138, 'mirex': 0.12057195709875067, 'majmin': 0.12438792096070744, 'majmin_inv': 0.05607683936400394, 'sevenths': 0.12438792096070744, 'sevenths_inv': 0.05607683936400394, 'underseg': 0.9522142024254117, 'overseg': 0.9515627095595952, 'seg': 0.9373282101252467}\n"
     ]
    }
   ],
   "source": [
    "# mir_eval real metrics\n",
    "mir_eval_metrics = evaluate_dataset_agreement(real_annotations, \"mir_eval\")\n",
    "\n",
    "# mir_eval random metrics\n",
    "mir_eval_random_metrics = evaluate_dataset_agreement(random_annotations, \"mir_eval\")\n",
    "\n",
    "# print the results\n",
    "print(\"Real annotations (mir_eval):\")\n",
    "print(mir_eval_metrics)\n",
    "\n",
    "print(\"Random annotations (mir_eval):\")\n",
    "print(mir_eval_random_metrics)"
   ]
  },
  {
   "cell_type": "markdown",
   "id": "57312646",
   "metadata": {},
   "source": [
    "### Tone-by-tone metric"
   ]
  },
  {
   "cell_type": "code",
   "execution_count": 18,
   "id": "16226b52",
   "metadata": {},
   "outputs": [
    {
     "data": {
      "application/vnd.jupyter.widget-view+json": {
       "model_id": "7216927ba5d448da96ee4acf688925c0",
       "version_major": 2,
       "version_minor": 0
      },
      "text/plain": [
       "Evaluating annotations:   0%|          | 0/50 [00:00<?, ?it/s]"
      ]
     },
     "metadata": {},
     "output_type": "display_data"
    },
    {
     "data": {
      "application/vnd.jupyter.widget-view+json": {
       "model_id": "0a451a2ee85a45e9a869e603b3dddec7",
       "version_major": 2,
       "version_minor": 0
      },
      "text/plain": [
       "Evaluating annotations:   0%|          | 0/50 [00:00<?, ?it/s]"
      ]
     },
     "metadata": {},
     "output_type": "display_data"
    },
    {
     "name": "stdout",
     "output_type": "stream",
     "text": [
      "Real annotations (tbt):\n",
      "{'root': 0.7728783725179622, 'majmin': 0.8032207949150342, 'majmin_inv': 0.7932973193403159, 'triads': 0.7959350067271839, 'triads_inv': 0.7863402163437172, 'thirds': 0.7726949769362927, 'thirds_inv': 0.7567261115215422, 'sevenths': 0.7944901095265857, 'sevenths_inv': 0.7846994212034256, 'tetrads': 0.786455879138562, 'tetrads_inv': 0.7770137664120637, 'mirex': 0.786455879138562}\n",
      "Random annotations (tbt):\n",
      "{'root': 0.15848905460155288, 'majmin': 0.24779940020443253, 'majmin_inv': 0.24172372588864496, 'triads': 0.25321929789315867, 'triads_inv': 0.2461402496299746, 'thirds': 0.15848905460155288, 'thirds_inv': 0.14669064082957944, 'sevenths': 0.24779940020443253, 'sevenths_inv': 0.24172372588864496, 'tetrads': 0.25321929789315867, 'tetrads_inv': 0.2461402496299746, 'mirex': 0.25321929789315867}\n"
     ]
    }
   ],
   "source": [
    "# tbt real metrics\n",
    "tbt_metrics = evaluate_dataset_agreement(real_annotations, \"tone-by-tone\")\n",
    "# tbt random metrics\n",
    "tbt_random_metrics = evaluate_dataset_agreement(random_annotations, \"tone-by-tone\")\n",
    "\n",
    "# print the results\n",
    "print(\"Real annotations (tbt):\")\n",
    "print(tbt_metrics)\n",
    "print(\"Random annotations (tbt):\")\n",
    "print(tbt_random_metrics)"
   ]
  },
  {
   "cell_type": "markdown",
   "id": "540d22ca",
   "metadata": {},
   "source": [
    "### Mechanical distance metric"
   ]
  },
  {
   "cell_type": "code",
   "execution_count": 19,
   "id": "c5678bbb",
   "metadata": {},
   "outputs": [
    {
     "data": {
      "application/vnd.jupyter.widget-view+json": {
       "model_id": "e011194486d846cb81de3dee567abe64",
       "version_major": 2,
       "version_minor": 0
      },
      "text/plain": [
       "Evaluating annotations:   0%|          | 0/50 [00:00<?, ?it/s]"
      ]
     },
     "metadata": {},
     "output_type": "display_data"
    },
    {
     "data": {
      "application/vnd.jupyter.widget-view+json": {
       "model_id": "c9427b83493f4519b9010e45b6163b4f",
       "version_major": 2,
       "version_minor": 0
      },
      "text/plain": [
       "Evaluating annotations:   0%|          | 0/50 [00:00<?, ?it/s]"
      ]
     },
     "metadata": {},
     "output_type": "display_data"
    },
    {
     "name": "stdout",
     "output_type": "stream",
     "text": [
      "Real annotations (mechanical):\n",
      "{'root': 0.8166791883578471, 'majmin': 1.4653135547550897, 'majmin_inv': 1.4653135547550897, 'triads': 1.5494592649545182, 'triads_inv': 1.5494592649545182, 'thirds': 0.896329243171156, 'thirds_inv': 0.896329243171156, 'sevenths': 1.7705642351406088, 'sevenths_inv': 1.7705642351406088, 'tetrads': 1.8589473868582764, 'tetrads_inv': 1.8589473868582764, 'mirex': 1.8589473868582764}\n",
      "Random annotations (mechanical):\n",
      "{'root': 2.9136827056852947, 'majmin': 5.529754034158147, 'majmin_inv': 5.529754034158147, 'triads': 5.535972189922457, 'triads_inv': 5.535972189922457, 'thirds': 2.9136827056852947, 'thirds_inv': 2.9136827056852947, 'sevenths': 5.529754034158147, 'sevenths_inv': 5.529754034158147, 'tetrads': 5.535972189922457, 'tetrads_inv': 5.535972189922457, 'mirex': 5.535972189922457}\n"
     ]
    }
   ],
   "source": [
    "# mech real metrics\n",
    "mech_metrics = evaluate_dataset_agreement(real_annotations, \"mechanical\")\n",
    "# mech random metrics\n",
    "mech_random_metrics = evaluate_dataset_agreement(random_annotations, \"mechanical\")\n",
    "\n",
    "# print the results\n",
    "print(\"Real annotations (mechanical):\")\n",
    "print(mech_metrics)\n",
    "print(\"Random annotations (mechanical):\")\n",
    "print(mech_random_metrics)"
   ]
  },
  {
   "cell_type": "markdown",
   "id": "45c44b8e",
   "metadata": {},
   "source": [
    "### Mechanical distance with consonance metric"
   ]
  },
  {
   "cell_type": "code",
   "execution_count": 20,
   "id": "866f9e26",
   "metadata": {},
   "outputs": [
    {
     "data": {
      "application/vnd.jupyter.widget-view+json": {
       "model_id": "96cb3f3cf9ed4ca69010b8704be1f83b",
       "version_major": 2,
       "version_minor": 0
      },
      "text/plain": [
       "Evaluating annotations:   0%|          | 0/50 [00:00<?, ?it/s]"
      ]
     },
     "metadata": {},
     "output_type": "display_data"
    },
    {
     "data": {
      "application/vnd.jupyter.widget-view+json": {
       "model_id": "aa5bfecf4ab94b718666228a3f0d7e98",
       "version_major": 2,
       "version_minor": 0
      },
      "text/plain": [
       "Evaluating annotations:   0%|          | 0/50 [00:00<?, ?it/s]"
      ]
     },
     "metadata": {},
     "output_type": "display_data"
    },
    {
     "name": "stdout",
     "output_type": "stream",
     "text": [
      "Real annotations (mechanical consonance):\n",
      "{'root': 0.6044383380837824, 'majmin': 1.576503391786636, 'majmin_inv': 1.576503391786636, 'triads': 1.6626254985636182, 'triads_inv': 1.6626254985636182, 'thirds': 0.7157027389996599, 'thirds_inv': 0.7157027389996599, 'sevenths': 1.7150147050099767, 'sevenths_inv': 1.7150147050099767, 'tetrads': 1.8027372542651938, 'tetrads_inv': 1.8027372542651938, 'mirex': 1.8027372542651938}\n",
      "Random annotations (mechanical consonance):\n",
      "{'root': 2.336492868206282, 'majmin': 5.958487976956814, 'majmin_inv': 5.958487976956814, 'triads': 5.861092283678489, 'triads_inv': 5.861092283678489, 'thirds': 2.336492868206282, 'thirds_inv': 2.336492868206282, 'sevenths': 5.958487976956814, 'sevenths_inv': 5.958487976956814, 'tetrads': 5.861092283678489, 'tetrads_inv': 5.861092283678489, 'mirex': 5.861092283678489}\n"
     ]
    }
   ],
   "source": [
    "# mech consonance real metrics\n",
    "mech_consonance_metrics = evaluate_dataset_agreement(\n",
    "    real_annotations, \"mechanical_consonance\"\n",
    ")\n",
    "# mech consonance random metrics\n",
    "mech_consonance_random_metrics = evaluate_dataset_agreement(\n",
    "    random_annotations, \"mechanical_consonance\"\n",
    ")\n",
    "\n",
    "# print the results\n",
    "print(\"Real annotations (mechanical consonance):\")\n",
    "print(mech_consonance_metrics)\n",
    "print(\"Random annotations (mechanical consonance):\")\n",
    "print(mech_consonance_random_metrics)"
   ]
  },
  {
   "cell_type": "markdown",
   "id": "839b5405",
   "metadata": {},
   "source": [
    "### Compare results"
   ]
  },
  {
   "cell_type": "code",
   "execution_count": 22,
   "id": "771c41a8",
   "metadata": {},
   "outputs": [
    {
     "data": {
      "text/html": [
       "<div>\n",
       "<style scoped>\n",
       "    .dataframe tbody tr th:only-of-type {\n",
       "        vertical-align: middle;\n",
       "    }\n",
       "\n",
       "    .dataframe tbody tr th {\n",
       "        vertical-align: top;\n",
       "    }\n",
       "\n",
       "    .dataframe thead th {\n",
       "        text-align: right;\n",
       "    }\n",
       "</style>\n",
       "<table border=\"1\" class=\"dataframe\">\n",
       "  <thead>\n",
       "    <tr style=\"text-align: right;\">\n",
       "      <th></th>\n",
       "      <th>Real (mir_eval)</th>\n",
       "      <th>Random (mir_eval)</th>\n",
       "      <th>Real (tbt)</th>\n",
       "      <th>Random (tbt)</th>\n",
       "      <th>Real (mechanical)</th>\n",
       "      <th>Random (mechanical)</th>\n",
       "      <th>Real (mechanical_consonance)</th>\n",
       "      <th>Random (mechanical_consonance)</th>\n",
       "    </tr>\n",
       "  </thead>\n",
       "  <tbody>\n",
       "    <tr>\n",
       "      <th>root</th>\n",
       "      <td>0.757</td>\n",
       "      <td>0.145</td>\n",
       "      <td>0.773</td>\n",
       "      <td>0.158</td>\n",
       "      <td>0.817</td>\n",
       "      <td>2.914</td>\n",
       "      <td>0.604</td>\n",
       "      <td>2.336</td>\n",
       "    </tr>\n",
       "    <tr>\n",
       "      <th>thirds</th>\n",
       "      <td>0.741</td>\n",
       "      <td>0.140</td>\n",
       "      <td>0.773</td>\n",
       "      <td>0.158</td>\n",
       "      <td>0.896</td>\n",
       "      <td>2.914</td>\n",
       "      <td>0.716</td>\n",
       "      <td>2.336</td>\n",
       "    </tr>\n",
       "    <tr>\n",
       "      <th>triads</th>\n",
       "      <td>0.710</td>\n",
       "      <td>0.121</td>\n",
       "      <td>0.796</td>\n",
       "      <td>0.253</td>\n",
       "      <td>1.549</td>\n",
       "      <td>5.536</td>\n",
       "      <td>1.663</td>\n",
       "      <td>5.861</td>\n",
       "    </tr>\n",
       "    <tr>\n",
       "      <th>majmin</th>\n",
       "      <td>0.734</td>\n",
       "      <td>0.124</td>\n",
       "      <td>0.803</td>\n",
       "      <td>0.248</td>\n",
       "      <td>1.465</td>\n",
       "      <td>5.530</td>\n",
       "      <td>1.577</td>\n",
       "      <td>5.958</td>\n",
       "    </tr>\n",
       "    <tr>\n",
       "      <th>tetrads</th>\n",
       "      <td>0.572</td>\n",
       "      <td>0.121</td>\n",
       "      <td>0.786</td>\n",
       "      <td>0.253</td>\n",
       "      <td>1.859</td>\n",
       "      <td>5.536</td>\n",
       "      <td>1.803</td>\n",
       "      <td>5.861</td>\n",
       "    </tr>\n",
       "    <tr>\n",
       "      <th>sevenths</th>\n",
       "      <td>0.592</td>\n",
       "      <td>0.124</td>\n",
       "      <td>0.794</td>\n",
       "      <td>0.248</td>\n",
       "      <td>1.771</td>\n",
       "      <td>5.530</td>\n",
       "      <td>1.715</td>\n",
       "      <td>5.958</td>\n",
       "    </tr>\n",
       "    <tr>\n",
       "      <th>mirex</th>\n",
       "      <td>0.744</td>\n",
       "      <td>0.121</td>\n",
       "      <td>0.786</td>\n",
       "      <td>0.253</td>\n",
       "      <td>1.859</td>\n",
       "      <td>5.536</td>\n",
       "      <td>1.803</td>\n",
       "      <td>5.861</td>\n",
       "    </tr>\n",
       "  </tbody>\n",
       "</table>\n",
       "</div>"
      ],
      "text/plain": [
       "          Real (mir_eval)  Random (mir_eval)  Real (tbt)  Random (tbt)  \\\n",
       "root                0.757              0.145       0.773         0.158   \n",
       "thirds              0.741              0.140       0.773         0.158   \n",
       "triads              0.710              0.121       0.796         0.253   \n",
       "majmin              0.734              0.124       0.803         0.248   \n",
       "tetrads             0.572              0.121       0.786         0.253   \n",
       "sevenths            0.592              0.124       0.794         0.248   \n",
       "mirex               0.744              0.121       0.786         0.253   \n",
       "\n",
       "          Real (mechanical)  Random (mechanical)  \\\n",
       "root                  0.817                2.914   \n",
       "thirds                0.896                2.914   \n",
       "triads                1.549                5.536   \n",
       "majmin                1.465                5.530   \n",
       "tetrads               1.859                5.536   \n",
       "sevenths              1.771                5.530   \n",
       "mirex                 1.859                5.536   \n",
       "\n",
       "          Real (mechanical_consonance)  Random (mechanical_consonance)  \n",
       "root                             0.604                           2.336  \n",
       "thirds                           0.716                           2.336  \n",
       "triads                           1.663                           5.861  \n",
       "majmin                           1.577                           5.958  \n",
       "tetrads                          1.803                           5.861  \n",
       "sevenths                         1.715                           5.958  \n",
       "mirex                            1.803                           5.861  "
      ]
     },
     "execution_count": 22,
     "metadata": {},
     "output_type": "execute_result"
    }
   ],
   "source": [
    "# Compare the metrics\n",
    "comparison = pd.DataFrame({\n",
    "    \"Real (mir_eval)\": mir_eval_metrics,\n",
    "    \"Random (mir_eval)\": mir_eval_random_metrics,\n",
    "    \"Real (tbt)\": tbt_metrics,\n",
    "    \"Random (tbt)\": tbt_random_metrics,\n",
    "    \"Real (mechanical)\": mech_metrics,\n",
    "    \"Random (mechanical)\": mech_random_metrics,\n",
    "    \"Real (mechanical_consonance)\": mech_consonance_metrics,\n",
    "    \"Random (mechanical_consonance)\": mech_consonance_random_metrics,\n",
    "})\n",
    "\n",
    "# Show the comparison displaying only rows which contain values from all metrics\n",
    "comparison = comparison[comparison.notna().all(axis=1)]\n",
    "\n",
    "# order rows\n",
    "order = [\n",
    "    \"root\",\n",
    "    \"thirds\",\n",
    "    \"triads\",\n",
    "    \"majmin\",\n",
    "    \"tetrads\",\n",
    "    \"sevenths\",\n",
    "    \"mirex\",\n",
    "]\n",
    "comparison = comparison.reindex(order)\n",
    "\n",
    "# Round values to 3 decimal places\n",
    "comparison = comparison.round(3)\n",
    "\n",
    "comparison"
   ]
  }
 ],
 "metadata": {
  "kernelspec": {
   "display_name": "Python 3",
   "language": "python",
   "name": "python3"
  },
  "language_info": {
   "codemirror_mode": {
    "name": "ipython",
    "version": 3
   },
   "file_extension": ".py",
   "mimetype": "text/x-python",
   "name": "python",
   "nbconvert_exporter": "python",
   "pygments_lexer": "ipython3",
   "version": "3.11.11"
  }
 },
 "nbformat": 4,
 "nbformat_minor": 5
}
